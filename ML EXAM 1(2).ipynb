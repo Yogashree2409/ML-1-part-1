{
 "cells": [
  {
   "cell_type": "markdown",
   "id": "aeb8e924",
   "metadata": {},
   "source": [
    "<H2>\n",
    "BANK(ML1)\n",
    "<H2>"
   ]
  },
  {
   "cell_type": "code",
   "execution_count": 202,
   "id": "1799a5fb",
   "metadata": {},
   "outputs": [],
   "source": [
    "import pandas as pd\n",
    "import numpy as np\n",
    "import seaborn as sns\n",
    "import matplotlib.pyplot as plt\n",
    "from scipy import stats\n",
    "import statsmodels.api as  sm\n",
    "from sklearn.preprocessing import StandardScaler as SS\n",
    "from sklearn.model_selection import train_test_split\n",
    "from sklearn import preprocessing\n",
    "from sklearn.linear_model import LogisticRegression as LR\n",
    "from sklearn.metrics import mean_squared_error as mse\n",
    "from sklearn.preprocessing import normalize\n",
    "from sklearn.decomposition import PCA\n",
    "from sklearn.tree import DecisionTreeRegressor\n",
    "from sklearn.decomposition import PCA\n",
    "from sklearn.naive_bayes import GaussianNB\n",
    "from sklearn import metrics"
   ]
  },
  {
   "cell_type": "code",
   "execution_count": 203,
   "id": "10496943",
   "metadata": {},
   "outputs": [],
   "source": [
    "data=['age', 'job', 'marital', 'education', 'default', 'housing', 'loan',\n",
    "       'contact', 'month', 'day_of_week', 'duration', 'campaign', 'pdays',\n",
    "       'previous', 'poutcome', 'emp_var_rate', 'cons_price_idx',\n",
    "       'cons_conf_idx', 'euribor3m', 'nr_employed', 'y']"
   ]
  },
  {
   "cell_type": "code",
   "execution_count": 204,
   "id": "d52055d8",
   "metadata": {},
   "outputs": [],
   "source": [
    "bank=pd.read_csv(\"C:/Users/venky kishore/Downloads/bank.csv\",sep=';',names=data,header=0)"
   ]
  },
  {
   "cell_type": "code",
   "execution_count": 205,
   "id": "7e455895",
   "metadata": {},
   "outputs": [
    {
     "data": {
      "text/plain": [
       "Index(['age', 'job', 'marital', 'education', 'default', 'housing', 'loan',\n",
       "       'contact', 'month', 'day_of_week', 'duration', 'campaign', 'pdays',\n",
       "       'previous', 'poutcome', 'emp_var_rate', 'cons_price_idx',\n",
       "       'cons_conf_idx', 'euribor3m', 'nr_employed', 'y'],\n",
       "      dtype='object')"
      ]
     },
     "execution_count": 205,
     "metadata": {},
     "output_type": "execute_result"
    }
   ],
   "source": [
    "bank.columns"
   ]
  },
  {
   "cell_type": "code",
   "execution_count": 206,
   "id": "b531eef6",
   "metadata": {},
   "outputs": [
    {
     "data": {
      "text/html": [
       "<div>\n",
       "<style scoped>\n",
       "    .dataframe tbody tr th:only-of-type {\n",
       "        vertical-align: middle;\n",
       "    }\n",
       "\n",
       "    .dataframe tbody tr th {\n",
       "        vertical-align: top;\n",
       "    }\n",
       "\n",
       "    .dataframe thead th {\n",
       "        text-align: right;\n",
       "    }\n",
       "</style>\n",
       "<table border=\"1\" class=\"dataframe\">\n",
       "  <thead>\n",
       "    <tr style=\"text-align: right;\">\n",
       "      <th></th>\n",
       "      <th>age</th>\n",
       "      <th>job</th>\n",
       "      <th>marital</th>\n",
       "      <th>education</th>\n",
       "      <th>default</th>\n",
       "      <th>housing</th>\n",
       "      <th>loan</th>\n",
       "      <th>contact</th>\n",
       "      <th>month</th>\n",
       "      <th>day_of_week</th>\n",
       "      <th>...</th>\n",
       "      <th>campaign</th>\n",
       "      <th>pdays</th>\n",
       "      <th>previous</th>\n",
       "      <th>poutcome</th>\n",
       "      <th>emp_var_rate</th>\n",
       "      <th>cons_price_idx</th>\n",
       "      <th>cons_conf_idx</th>\n",
       "      <th>euribor3m</th>\n",
       "      <th>nr_employed</th>\n",
       "      <th>y</th>\n",
       "    </tr>\n",
       "  </thead>\n",
       "  <tbody>\n",
       "    <tr>\n",
       "      <th>0</th>\n",
       "      <td>56</td>\n",
       "      <td>housemaid</td>\n",
       "      <td>married</td>\n",
       "      <td>basic.4y</td>\n",
       "      <td>no</td>\n",
       "      <td>no</td>\n",
       "      <td>no</td>\n",
       "      <td>telephone</td>\n",
       "      <td>may</td>\n",
       "      <td>mon</td>\n",
       "      <td>...</td>\n",
       "      <td>1</td>\n",
       "      <td>999</td>\n",
       "      <td>0</td>\n",
       "      <td>nonexistent</td>\n",
       "      <td>1.1</td>\n",
       "      <td>93.994</td>\n",
       "      <td>-36.4</td>\n",
       "      <td>4.857</td>\n",
       "      <td>5191.0</td>\n",
       "      <td>no</td>\n",
       "    </tr>\n",
       "    <tr>\n",
       "      <th>1</th>\n",
       "      <td>57</td>\n",
       "      <td>services</td>\n",
       "      <td>married</td>\n",
       "      <td>high.school</td>\n",
       "      <td>unknown</td>\n",
       "      <td>no</td>\n",
       "      <td>no</td>\n",
       "      <td>telephone</td>\n",
       "      <td>may</td>\n",
       "      <td>mon</td>\n",
       "      <td>...</td>\n",
       "      <td>1</td>\n",
       "      <td>999</td>\n",
       "      <td>0</td>\n",
       "      <td>nonexistent</td>\n",
       "      <td>1.1</td>\n",
       "      <td>93.994</td>\n",
       "      <td>-36.4</td>\n",
       "      <td>4.857</td>\n",
       "      <td>5191.0</td>\n",
       "      <td>no</td>\n",
       "    </tr>\n",
       "    <tr>\n",
       "      <th>2</th>\n",
       "      <td>37</td>\n",
       "      <td>services</td>\n",
       "      <td>married</td>\n",
       "      <td>high.school</td>\n",
       "      <td>no</td>\n",
       "      <td>yes</td>\n",
       "      <td>no</td>\n",
       "      <td>telephone</td>\n",
       "      <td>may</td>\n",
       "      <td>mon</td>\n",
       "      <td>...</td>\n",
       "      <td>1</td>\n",
       "      <td>999</td>\n",
       "      <td>0</td>\n",
       "      <td>nonexistent</td>\n",
       "      <td>1.1</td>\n",
       "      <td>93.994</td>\n",
       "      <td>-36.4</td>\n",
       "      <td>4.857</td>\n",
       "      <td>5191.0</td>\n",
       "      <td>no</td>\n",
       "    </tr>\n",
       "    <tr>\n",
       "      <th>3</th>\n",
       "      <td>40</td>\n",
       "      <td>admin.</td>\n",
       "      <td>married</td>\n",
       "      <td>basic.6y</td>\n",
       "      <td>no</td>\n",
       "      <td>no</td>\n",
       "      <td>no</td>\n",
       "      <td>telephone</td>\n",
       "      <td>may</td>\n",
       "      <td>mon</td>\n",
       "      <td>...</td>\n",
       "      <td>1</td>\n",
       "      <td>999</td>\n",
       "      <td>0</td>\n",
       "      <td>nonexistent</td>\n",
       "      <td>1.1</td>\n",
       "      <td>93.994</td>\n",
       "      <td>-36.4</td>\n",
       "      <td>4.857</td>\n",
       "      <td>5191.0</td>\n",
       "      <td>no</td>\n",
       "    </tr>\n",
       "    <tr>\n",
       "      <th>4</th>\n",
       "      <td>56</td>\n",
       "      <td>services</td>\n",
       "      <td>married</td>\n",
       "      <td>high.school</td>\n",
       "      <td>no</td>\n",
       "      <td>no</td>\n",
       "      <td>yes</td>\n",
       "      <td>telephone</td>\n",
       "      <td>may</td>\n",
       "      <td>mon</td>\n",
       "      <td>...</td>\n",
       "      <td>1</td>\n",
       "      <td>999</td>\n",
       "      <td>0</td>\n",
       "      <td>nonexistent</td>\n",
       "      <td>1.1</td>\n",
       "      <td>93.994</td>\n",
       "      <td>-36.4</td>\n",
       "      <td>4.857</td>\n",
       "      <td>5191.0</td>\n",
       "      <td>no</td>\n",
       "    </tr>\n",
       "  </tbody>\n",
       "</table>\n",
       "<p>5 rows × 21 columns</p>\n",
       "</div>"
      ],
      "text/plain": [
       "   age        job  marital    education  default housing loan    contact  \\\n",
       "0   56  housemaid  married     basic.4y       no      no   no  telephone   \n",
       "1   57   services  married  high.school  unknown      no   no  telephone   \n",
       "2   37   services  married  high.school       no     yes   no  telephone   \n",
       "3   40     admin.  married     basic.6y       no      no   no  telephone   \n",
       "4   56   services  married  high.school       no      no  yes  telephone   \n",
       "\n",
       "  month day_of_week  ...  campaign  pdays  previous     poutcome emp_var_rate  \\\n",
       "0   may         mon  ...         1    999         0  nonexistent          1.1   \n",
       "1   may         mon  ...         1    999         0  nonexistent          1.1   \n",
       "2   may         mon  ...         1    999         0  nonexistent          1.1   \n",
       "3   may         mon  ...         1    999         0  nonexistent          1.1   \n",
       "4   may         mon  ...         1    999         0  nonexistent          1.1   \n",
       "\n",
       "   cons_price_idx  cons_conf_idx  euribor3m  nr_employed   y  \n",
       "0          93.994          -36.4      4.857       5191.0  no  \n",
       "1          93.994          -36.4      4.857       5191.0  no  \n",
       "2          93.994          -36.4      4.857       5191.0  no  \n",
       "3          93.994          -36.4      4.857       5191.0  no  \n",
       "4          93.994          -36.4      4.857       5191.0  no  \n",
       "\n",
       "[5 rows x 21 columns]"
      ]
     },
     "execution_count": 206,
     "metadata": {},
     "output_type": "execute_result"
    }
   ],
   "source": [
    "bank.head()"
   ]
  },
  {
   "cell_type": "code",
   "execution_count": 207,
   "id": "5bb3a417",
   "metadata": {},
   "outputs": [
    {
     "data": {
      "text/plain": [
       "age               0\n",
       "job               0\n",
       "marital           0\n",
       "education         0\n",
       "default           0\n",
       "housing           0\n",
       "loan              0\n",
       "contact           0\n",
       "month             0\n",
       "day_of_week       0\n",
       "duration          0\n",
       "campaign          0\n",
       "pdays             0\n",
       "previous          0\n",
       "poutcome          0\n",
       "emp_var_rate      0\n",
       "cons_price_idx    0\n",
       "cons_conf_idx     0\n",
       "euribor3m         0\n",
       "nr_employed       0\n",
       "y                 0\n",
       "dtype: int64"
      ]
     },
     "execution_count": 207,
     "metadata": {},
     "output_type": "execute_result"
    }
   ],
   "source": [
    "bank.isnull().sum()"
   ]
  },
  {
   "cell_type": "markdown",
   "id": "dc7ef57d",
   "metadata": {},
   "source": [
    "<H3>\n",
    "Label Encoder\n",
    "<H3>\n"
   ]
  },
  {
   "cell_type": "code",
   "execution_count": 208,
   "id": "f36789a2",
   "metadata": {},
   "outputs": [],
   "source": [
    "le = preprocessing.LabelEncoder()"
   ]
  },
  {
   "cell_type": "code",
   "execution_count": 209,
   "id": "770fcd06",
   "metadata": {},
   "outputs": [],
   "source": [
    "bank.job=le.fit_transform(bank.job)"
   ]
  },
  {
   "cell_type": "code",
   "execution_count": 210,
   "id": "3290809a",
   "metadata": {},
   "outputs": [],
   "source": [
    "bank.marital=le.fit_transform(bank.marital)"
   ]
  },
  {
   "cell_type": "code",
   "execution_count": 211,
   "id": "125f457d",
   "metadata": {},
   "outputs": [],
   "source": [
    "bank.education=le.fit_transform(bank.education)"
   ]
  },
  {
   "cell_type": "code",
   "execution_count": 212,
   "id": "622297e3",
   "metadata": {},
   "outputs": [],
   "source": [
    "bank.default=le.fit_transform(bank.default)"
   ]
  },
  {
   "cell_type": "code",
   "execution_count": 213,
   "id": "efb5b711",
   "metadata": {},
   "outputs": [],
   "source": [
    "bank.housing=le.fit_transform(bank.housing)"
   ]
  },
  {
   "cell_type": "code",
   "execution_count": 214,
   "id": "f1a98894",
   "metadata": {},
   "outputs": [],
   "source": [
    "bank.loan=le.fit_transform(bank.loan)"
   ]
  },
  {
   "cell_type": "code",
   "execution_count": 215,
   "id": "d0c3f065",
   "metadata": {},
   "outputs": [],
   "source": [
    "bank.contact=le.fit_transform(bank.contact)"
   ]
  },
  {
   "cell_type": "code",
   "execution_count": 216,
   "id": "e622691b",
   "metadata": {},
   "outputs": [],
   "source": [
    "bank.month=le.fit_transform(bank.month)"
   ]
  },
  {
   "cell_type": "code",
   "execution_count": 217,
   "id": "a06f3817",
   "metadata": {},
   "outputs": [],
   "source": [
    "bank.day_of_week=le.fit_transform(bank.day_of_week)"
   ]
  },
  {
   "cell_type": "code",
   "execution_count": 218,
   "id": "a03dbeb4",
   "metadata": {},
   "outputs": [],
   "source": [
    "bank.poutcome=le.fit_transform(bank.poutcome)"
   ]
  },
  {
   "cell_type": "code",
   "execution_count": 219,
   "id": "12dad10b",
   "metadata": {},
   "outputs": [],
   "source": [
    "Y=bank.y"
   ]
  },
  {
   "cell_type": "code",
   "execution_count": 220,
   "id": "750966b6",
   "metadata": {},
   "outputs": [],
   "source": [
    "Y=le.fit_transform(Y)"
   ]
  },
  {
   "cell_type": "code",
   "execution_count": 221,
   "id": "8a2fa423",
   "metadata": {},
   "outputs": [
    {
     "data": {
      "text/plain": [
       "array([0, 0, 0, ..., 0, 1, 0])"
      ]
     },
     "execution_count": 221,
     "metadata": {},
     "output_type": "execute_result"
    }
   ],
   "source": [
    "Y"
   ]
  },
  {
   "cell_type": "code",
   "execution_count": 222,
   "id": "4d3f7456",
   "metadata": {},
   "outputs": [],
   "source": [
    "X=bank.drop('y',axis=1)"
   ]
  },
  {
   "cell_type": "code",
   "execution_count": 223,
   "id": "029cfb8f",
   "metadata": {},
   "outputs": [
    {
     "data": {
      "text/html": [
       "<div>\n",
       "<style scoped>\n",
       "    .dataframe tbody tr th:only-of-type {\n",
       "        vertical-align: middle;\n",
       "    }\n",
       "\n",
       "    .dataframe tbody tr th {\n",
       "        vertical-align: top;\n",
       "    }\n",
       "\n",
       "    .dataframe thead th {\n",
       "        text-align: right;\n",
       "    }\n",
       "</style>\n",
       "<table border=\"1\" class=\"dataframe\">\n",
       "  <thead>\n",
       "    <tr style=\"text-align: right;\">\n",
       "      <th></th>\n",
       "      <th>age</th>\n",
       "      <th>job</th>\n",
       "      <th>marital</th>\n",
       "      <th>education</th>\n",
       "      <th>default</th>\n",
       "      <th>housing</th>\n",
       "      <th>loan</th>\n",
       "      <th>contact</th>\n",
       "      <th>month</th>\n",
       "      <th>day_of_week</th>\n",
       "      <th>duration</th>\n",
       "      <th>campaign</th>\n",
       "      <th>pdays</th>\n",
       "      <th>previous</th>\n",
       "      <th>poutcome</th>\n",
       "      <th>emp_var_rate</th>\n",
       "      <th>cons_price_idx</th>\n",
       "      <th>cons_conf_idx</th>\n",
       "      <th>euribor3m</th>\n",
       "      <th>nr_employed</th>\n",
       "    </tr>\n",
       "  </thead>\n",
       "  <tbody>\n",
       "    <tr>\n",
       "      <th>0</th>\n",
       "      <td>56</td>\n",
       "      <td>3</td>\n",
       "      <td>1</td>\n",
       "      <td>0</td>\n",
       "      <td>0</td>\n",
       "      <td>0</td>\n",
       "      <td>0</td>\n",
       "      <td>1</td>\n",
       "      <td>6</td>\n",
       "      <td>1</td>\n",
       "      <td>261</td>\n",
       "      <td>1</td>\n",
       "      <td>999</td>\n",
       "      <td>0</td>\n",
       "      <td>1</td>\n",
       "      <td>1.1</td>\n",
       "      <td>93.994</td>\n",
       "      <td>-36.4</td>\n",
       "      <td>4.857</td>\n",
       "      <td>5191.0</td>\n",
       "    </tr>\n",
       "    <tr>\n",
       "      <th>1</th>\n",
       "      <td>57</td>\n",
       "      <td>7</td>\n",
       "      <td>1</td>\n",
       "      <td>3</td>\n",
       "      <td>1</td>\n",
       "      <td>0</td>\n",
       "      <td>0</td>\n",
       "      <td>1</td>\n",
       "      <td>6</td>\n",
       "      <td>1</td>\n",
       "      <td>149</td>\n",
       "      <td>1</td>\n",
       "      <td>999</td>\n",
       "      <td>0</td>\n",
       "      <td>1</td>\n",
       "      <td>1.1</td>\n",
       "      <td>93.994</td>\n",
       "      <td>-36.4</td>\n",
       "      <td>4.857</td>\n",
       "      <td>5191.0</td>\n",
       "    </tr>\n",
       "    <tr>\n",
       "      <th>2</th>\n",
       "      <td>37</td>\n",
       "      <td>7</td>\n",
       "      <td>1</td>\n",
       "      <td>3</td>\n",
       "      <td>0</td>\n",
       "      <td>2</td>\n",
       "      <td>0</td>\n",
       "      <td>1</td>\n",
       "      <td>6</td>\n",
       "      <td>1</td>\n",
       "      <td>226</td>\n",
       "      <td>1</td>\n",
       "      <td>999</td>\n",
       "      <td>0</td>\n",
       "      <td>1</td>\n",
       "      <td>1.1</td>\n",
       "      <td>93.994</td>\n",
       "      <td>-36.4</td>\n",
       "      <td>4.857</td>\n",
       "      <td>5191.0</td>\n",
       "    </tr>\n",
       "    <tr>\n",
       "      <th>3</th>\n",
       "      <td>40</td>\n",
       "      <td>0</td>\n",
       "      <td>1</td>\n",
       "      <td>1</td>\n",
       "      <td>0</td>\n",
       "      <td>0</td>\n",
       "      <td>0</td>\n",
       "      <td>1</td>\n",
       "      <td>6</td>\n",
       "      <td>1</td>\n",
       "      <td>151</td>\n",
       "      <td>1</td>\n",
       "      <td>999</td>\n",
       "      <td>0</td>\n",
       "      <td>1</td>\n",
       "      <td>1.1</td>\n",
       "      <td>93.994</td>\n",
       "      <td>-36.4</td>\n",
       "      <td>4.857</td>\n",
       "      <td>5191.0</td>\n",
       "    </tr>\n",
       "    <tr>\n",
       "      <th>4</th>\n",
       "      <td>56</td>\n",
       "      <td>7</td>\n",
       "      <td>1</td>\n",
       "      <td>3</td>\n",
       "      <td>0</td>\n",
       "      <td>0</td>\n",
       "      <td>2</td>\n",
       "      <td>1</td>\n",
       "      <td>6</td>\n",
       "      <td>1</td>\n",
       "      <td>307</td>\n",
       "      <td>1</td>\n",
       "      <td>999</td>\n",
       "      <td>0</td>\n",
       "      <td>1</td>\n",
       "      <td>1.1</td>\n",
       "      <td>93.994</td>\n",
       "      <td>-36.4</td>\n",
       "      <td>4.857</td>\n",
       "      <td>5191.0</td>\n",
       "    </tr>\n",
       "  </tbody>\n",
       "</table>\n",
       "</div>"
      ],
      "text/plain": [
       "   age  job  marital  education  default  housing  loan  contact  month  \\\n",
       "0   56    3        1          0        0        0     0        1      6   \n",
       "1   57    7        1          3        1        0     0        1      6   \n",
       "2   37    7        1          3        0        2     0        1      6   \n",
       "3   40    0        1          1        0        0     0        1      6   \n",
       "4   56    7        1          3        0        0     2        1      6   \n",
       "\n",
       "   day_of_week  duration  campaign  pdays  previous  poutcome  emp_var_rate  \\\n",
       "0            1       261         1    999         0         1           1.1   \n",
       "1            1       149         1    999         0         1           1.1   \n",
       "2            1       226         1    999         0         1           1.1   \n",
       "3            1       151         1    999         0         1           1.1   \n",
       "4            1       307         1    999         0         1           1.1   \n",
       "\n",
       "   cons_price_idx  cons_conf_idx  euribor3m  nr_employed  \n",
       "0          93.994          -36.4      4.857       5191.0  \n",
       "1          93.994          -36.4      4.857       5191.0  \n",
       "2          93.994          -36.4      4.857       5191.0  \n",
       "3          93.994          -36.4      4.857       5191.0  \n",
       "4          93.994          -36.4      4.857       5191.0  "
      ]
     },
     "execution_count": 223,
     "metadata": {},
     "output_type": "execute_result"
    }
   ],
   "source": [
    "X.head()"
   ]
  },
  {
   "cell_type": "code",
   "execution_count": 224,
   "id": "67bb83e9",
   "metadata": {},
   "outputs": [],
   "source": [
    "scalar=SS()"
   ]
  },
  {
   "cell_type": "code",
   "execution_count": 225,
   "id": "be3ca6d6",
   "metadata": {},
   "outputs": [],
   "source": [
    "scaledX=scalar.fit_transform(X)"
   ]
  },
  {
   "cell_type": "code",
   "execution_count": 226,
   "id": "548cf451",
   "metadata": {},
   "outputs": [],
   "source": [
    "scaledX=pd.DataFrame(scaledX)"
   ]
  },
  {
   "cell_type": "code",
   "execution_count": 227,
   "id": "3229ce19",
   "metadata": {},
   "outputs": [],
   "source": [
    "scaledX.columns=X.columns"
   ]
  },
  {
   "cell_type": "code",
   "execution_count": 228,
   "id": "54491b40",
   "metadata": {},
   "outputs": [
    {
     "data": {
      "text/html": [
       "<div>\n",
       "<style scoped>\n",
       "    .dataframe tbody tr th:only-of-type {\n",
       "        vertical-align: middle;\n",
       "    }\n",
       "\n",
       "    .dataframe tbody tr th {\n",
       "        vertical-align: top;\n",
       "    }\n",
       "\n",
       "    .dataframe thead th {\n",
       "        text-align: right;\n",
       "    }\n",
       "</style>\n",
       "<table border=\"1\" class=\"dataframe\">\n",
       "  <thead>\n",
       "    <tr style=\"text-align: right;\">\n",
       "      <th></th>\n",
       "      <th>age</th>\n",
       "      <th>job</th>\n",
       "      <th>marital</th>\n",
       "      <th>education</th>\n",
       "      <th>default</th>\n",
       "      <th>housing</th>\n",
       "      <th>loan</th>\n",
       "      <th>contact</th>\n",
       "      <th>month</th>\n",
       "      <th>day_of_week</th>\n",
       "      <th>duration</th>\n",
       "      <th>campaign</th>\n",
       "      <th>pdays</th>\n",
       "      <th>previous</th>\n",
       "      <th>poutcome</th>\n",
       "      <th>emp_var_rate</th>\n",
       "      <th>cons_price_idx</th>\n",
       "      <th>cons_conf_idx</th>\n",
       "      <th>euribor3m</th>\n",
       "      <th>nr_employed</th>\n",
       "    </tr>\n",
       "  </thead>\n",
       "  <tbody>\n",
       "    <tr>\n",
       "      <th>0</th>\n",
       "      <td>1.533034</td>\n",
       "      <td>-0.201579</td>\n",
       "      <td>-0.283741</td>\n",
       "      <td>-1.753925</td>\n",
       "      <td>-0.513600</td>\n",
       "      <td>-1.087707</td>\n",
       "      <td>-0.452491</td>\n",
       "      <td>1.31827</td>\n",
       "      <td>0.762558</td>\n",
       "      <td>-0.718834</td>\n",
       "      <td>0.010471</td>\n",
       "      <td>-0.565922</td>\n",
       "      <td>0.195414</td>\n",
       "      <td>-0.349494</td>\n",
       "      <td>0.192622</td>\n",
       "      <td>0.648092</td>\n",
       "      <td>0.722722</td>\n",
       "      <td>0.886447</td>\n",
       "      <td>0.71246</td>\n",
       "      <td>0.33168</td>\n",
       "    </tr>\n",
       "    <tr>\n",
       "      <th>1</th>\n",
       "      <td>1.628993</td>\n",
       "      <td>0.911227</td>\n",
       "      <td>-0.283741</td>\n",
       "      <td>-0.349730</td>\n",
       "      <td>1.945327</td>\n",
       "      <td>-1.087707</td>\n",
       "      <td>-0.452491</td>\n",
       "      <td>1.31827</td>\n",
       "      <td>0.762558</td>\n",
       "      <td>-0.718834</td>\n",
       "      <td>-0.421501</td>\n",
       "      <td>-0.565922</td>\n",
       "      <td>0.195414</td>\n",
       "      <td>-0.349494</td>\n",
       "      <td>0.192622</td>\n",
       "      <td>0.648092</td>\n",
       "      <td>0.722722</td>\n",
       "      <td>0.886447</td>\n",
       "      <td>0.71246</td>\n",
       "      <td>0.33168</td>\n",
       "    </tr>\n",
       "    <tr>\n",
       "      <th>2</th>\n",
       "      <td>-0.290186</td>\n",
       "      <td>0.911227</td>\n",
       "      <td>-0.283741</td>\n",
       "      <td>-0.349730</td>\n",
       "      <td>-0.513600</td>\n",
       "      <td>0.942127</td>\n",
       "      <td>-0.452491</td>\n",
       "      <td>1.31827</td>\n",
       "      <td>0.762558</td>\n",
       "      <td>-0.718834</td>\n",
       "      <td>-0.124520</td>\n",
       "      <td>-0.565922</td>\n",
       "      <td>0.195414</td>\n",
       "      <td>-0.349494</td>\n",
       "      <td>0.192622</td>\n",
       "      <td>0.648092</td>\n",
       "      <td>0.722722</td>\n",
       "      <td>0.886447</td>\n",
       "      <td>0.71246</td>\n",
       "      <td>0.33168</td>\n",
       "    </tr>\n",
       "    <tr>\n",
       "      <th>3</th>\n",
       "      <td>-0.002309</td>\n",
       "      <td>-1.036184</td>\n",
       "      <td>-0.283741</td>\n",
       "      <td>-1.285860</td>\n",
       "      <td>-0.513600</td>\n",
       "      <td>-1.087707</td>\n",
       "      <td>-0.452491</td>\n",
       "      <td>1.31827</td>\n",
       "      <td>0.762558</td>\n",
       "      <td>-0.718834</td>\n",
       "      <td>-0.413787</td>\n",
       "      <td>-0.565922</td>\n",
       "      <td>0.195414</td>\n",
       "      <td>-0.349494</td>\n",
       "      <td>0.192622</td>\n",
       "      <td>0.648092</td>\n",
       "      <td>0.722722</td>\n",
       "      <td>0.886447</td>\n",
       "      <td>0.71246</td>\n",
       "      <td>0.33168</td>\n",
       "    </tr>\n",
       "    <tr>\n",
       "      <th>4</th>\n",
       "      <td>1.533034</td>\n",
       "      <td>0.911227</td>\n",
       "      <td>-0.283741</td>\n",
       "      <td>-0.349730</td>\n",
       "      <td>-0.513600</td>\n",
       "      <td>-1.087707</td>\n",
       "      <td>2.311440</td>\n",
       "      <td>1.31827</td>\n",
       "      <td>0.762558</td>\n",
       "      <td>-0.718834</td>\n",
       "      <td>0.187888</td>\n",
       "      <td>-0.565922</td>\n",
       "      <td>0.195414</td>\n",
       "      <td>-0.349494</td>\n",
       "      <td>0.192622</td>\n",
       "      <td>0.648092</td>\n",
       "      <td>0.722722</td>\n",
       "      <td>0.886447</td>\n",
       "      <td>0.71246</td>\n",
       "      <td>0.33168</td>\n",
       "    </tr>\n",
       "  </tbody>\n",
       "</table>\n",
       "</div>"
      ],
      "text/plain": [
       "        age       job   marital  education   default   housing      loan  \\\n",
       "0  1.533034 -0.201579 -0.283741  -1.753925 -0.513600 -1.087707 -0.452491   \n",
       "1  1.628993  0.911227 -0.283741  -0.349730  1.945327 -1.087707 -0.452491   \n",
       "2 -0.290186  0.911227 -0.283741  -0.349730 -0.513600  0.942127 -0.452491   \n",
       "3 -0.002309 -1.036184 -0.283741  -1.285860 -0.513600 -1.087707 -0.452491   \n",
       "4  1.533034  0.911227 -0.283741  -0.349730 -0.513600 -1.087707  2.311440   \n",
       "\n",
       "   contact     month  day_of_week  duration  campaign     pdays  previous  \\\n",
       "0  1.31827  0.762558    -0.718834  0.010471 -0.565922  0.195414 -0.349494   \n",
       "1  1.31827  0.762558    -0.718834 -0.421501 -0.565922  0.195414 -0.349494   \n",
       "2  1.31827  0.762558    -0.718834 -0.124520 -0.565922  0.195414 -0.349494   \n",
       "3  1.31827  0.762558    -0.718834 -0.413787 -0.565922  0.195414 -0.349494   \n",
       "4  1.31827  0.762558    -0.718834  0.187888 -0.565922  0.195414 -0.349494   \n",
       "\n",
       "   poutcome  emp_var_rate  cons_price_idx  cons_conf_idx  euribor3m  \\\n",
       "0  0.192622      0.648092        0.722722       0.886447    0.71246   \n",
       "1  0.192622      0.648092        0.722722       0.886447    0.71246   \n",
       "2  0.192622      0.648092        0.722722       0.886447    0.71246   \n",
       "3  0.192622      0.648092        0.722722       0.886447    0.71246   \n",
       "4  0.192622      0.648092        0.722722       0.886447    0.71246   \n",
       "\n",
       "   nr_employed  \n",
       "0      0.33168  \n",
       "1      0.33168  \n",
       "2      0.33168  \n",
       "3      0.33168  \n",
       "4      0.33168  "
      ]
     },
     "execution_count": 228,
     "metadata": {},
     "output_type": "execute_result"
    }
   ],
   "source": [
    "scaledX.head()"
   ]
  },
  {
   "cell_type": "code",
   "execution_count": 229,
   "id": "af92f0b0",
   "metadata": {},
   "outputs": [],
   "source": [
    "xtrain,xtest,ytrain,ytest = train_test_split(scaledX,Y,test_size=0.2,random_state=100)"
   ]
  },
  {
   "cell_type": "code",
   "execution_count": 230,
   "id": "2dc78072",
   "metadata": {},
   "outputs": [
    {
     "data": {
      "text/plain": [
       "(32950, 20)"
      ]
     },
     "execution_count": 230,
     "metadata": {},
     "output_type": "execute_result"
    }
   ],
   "source": [
    "xtrain.shape"
   ]
  },
  {
   "cell_type": "code",
   "execution_count": 231,
   "id": "7af1b513",
   "metadata": {},
   "outputs": [
    {
     "data": {
      "text/plain": [
       "(32950,)"
      ]
     },
     "execution_count": 231,
     "metadata": {},
     "output_type": "execute_result"
    }
   ],
   "source": [
    "ytrain.shape"
   ]
  },
  {
   "cell_type": "code",
   "execution_count": 232,
   "id": "44e94c37",
   "metadata": {},
   "outputs": [],
   "source": [
    "from sklearn.ensemble import RandomForestClassifier\n",
    "from sklearn.feature_selection import SelectFromModel"
   ]
  },
  {
   "cell_type": "code",
   "execution_count": 233,
   "id": "f7af8c36",
   "metadata": {},
   "outputs": [
    {
     "data": {
      "text/plain": [
       "SelectFromModel(estimator=RandomForestClassifier())"
      ]
     },
     "execution_count": 233,
     "metadata": {},
     "output_type": "execute_result"
    }
   ],
   "source": [
    "sel = SelectFromModel(RandomForestClassifier(n_estimators = 100))\n",
    "sel.fit(xtrain, ytrain)"
   ]
  },
  {
   "cell_type": "code",
   "execution_count": 234,
   "id": "221d02de",
   "metadata": {},
   "outputs": [
    {
     "data": {
      "text/plain": [
       "4"
      ]
     },
     "execution_count": 234,
     "metadata": {},
     "output_type": "execute_result"
    }
   ],
   "source": [
    "selected_feat= xtrain.columns[(sel.get_support())]\n",
    "len(selected_feat)"
   ]
  },
  {
   "cell_type": "code",
   "execution_count": 235,
   "id": "ef9da51f",
   "metadata": {},
   "outputs": [
    {
     "data": {
      "text/plain": [
       "Index(['age', 'duration', 'euribor3m', 'nr_employed'], dtype='object')"
      ]
     },
     "execution_count": 235,
     "metadata": {},
     "output_type": "execute_result"
    }
   ],
   "source": [
    "selected_feat"
   ]
  },
  {
   "cell_type": "code",
   "execution_count": 236,
   "id": "6ce57917",
   "metadata": {},
   "outputs": [],
   "source": [
    "Selected=scaledX[['age', 'duration', 'euribor3m', 'nr_employed']]"
   ]
  },
  {
   "cell_type": "code",
   "execution_count": 237,
   "id": "5027f054",
   "metadata": {},
   "outputs": [
    {
     "data": {
      "text/html": [
       "<div>\n",
       "<style scoped>\n",
       "    .dataframe tbody tr th:only-of-type {\n",
       "        vertical-align: middle;\n",
       "    }\n",
       "\n",
       "    .dataframe tbody tr th {\n",
       "        vertical-align: top;\n",
       "    }\n",
       "\n",
       "    .dataframe thead th {\n",
       "        text-align: right;\n",
       "    }\n",
       "</style>\n",
       "<table border=\"1\" class=\"dataframe\">\n",
       "  <thead>\n",
       "    <tr style=\"text-align: right;\">\n",
       "      <th></th>\n",
       "      <th>age</th>\n",
       "      <th>duration</th>\n",
       "      <th>euribor3m</th>\n",
       "      <th>nr_employed</th>\n",
       "    </tr>\n",
       "  </thead>\n",
       "  <tbody>\n",
       "    <tr>\n",
       "      <th>0</th>\n",
       "      <td>1.533034</td>\n",
       "      <td>0.010471</td>\n",
       "      <td>0.71246</td>\n",
       "      <td>0.33168</td>\n",
       "    </tr>\n",
       "    <tr>\n",
       "      <th>1</th>\n",
       "      <td>1.628993</td>\n",
       "      <td>-0.421501</td>\n",
       "      <td>0.71246</td>\n",
       "      <td>0.33168</td>\n",
       "    </tr>\n",
       "    <tr>\n",
       "      <th>2</th>\n",
       "      <td>-0.290186</td>\n",
       "      <td>-0.124520</td>\n",
       "      <td>0.71246</td>\n",
       "      <td>0.33168</td>\n",
       "    </tr>\n",
       "    <tr>\n",
       "      <th>3</th>\n",
       "      <td>-0.002309</td>\n",
       "      <td>-0.413787</td>\n",
       "      <td>0.71246</td>\n",
       "      <td>0.33168</td>\n",
       "    </tr>\n",
       "    <tr>\n",
       "      <th>4</th>\n",
       "      <td>1.533034</td>\n",
       "      <td>0.187888</td>\n",
       "      <td>0.71246</td>\n",
       "      <td>0.33168</td>\n",
       "    </tr>\n",
       "  </tbody>\n",
       "</table>\n",
       "</div>"
      ],
      "text/plain": [
       "        age  duration  euribor3m  nr_employed\n",
       "0  1.533034  0.010471    0.71246      0.33168\n",
       "1  1.628993 -0.421501    0.71246      0.33168\n",
       "2 -0.290186 -0.124520    0.71246      0.33168\n",
       "3 -0.002309 -0.413787    0.71246      0.33168\n",
       "4  1.533034  0.187888    0.71246      0.33168"
      ]
     },
     "execution_count": 237,
     "metadata": {},
     "output_type": "execute_result"
    }
   ],
   "source": [
    "Selected.head()"
   ]
  },
  {
   "cell_type": "markdown",
   "id": "885a81f0",
   "metadata": {},
   "source": [
    "<h3>\n",
    "    Logistic Regression\n",
    "    <H3>"
   ]
  },
  {
   "cell_type": "code",
   "execution_count": 238,
   "id": "d80474cd",
   "metadata": {},
   "outputs": [],
   "source": [
    "x_train,x_test,y_train,y_test = train_test_split(Selected,Y,test_size=0.3,random_state=100)"
   ]
  },
  {
   "cell_type": "code",
   "execution_count": 239,
   "id": "5981e762",
   "metadata": {},
   "outputs": [],
   "source": [
    "model=LR()"
   ]
  },
  {
   "cell_type": "code",
   "execution_count": 240,
   "id": "b474cb25",
   "metadata": {},
   "outputs": [
    {
     "data": {
      "text/plain": [
       "LogisticRegression()"
      ]
     },
     "execution_count": 240,
     "metadata": {},
     "output_type": "execute_result"
    }
   ],
   "source": [
    "model.fit(x_train,y_train)"
   ]
  },
  {
   "cell_type": "code",
   "execution_count": 241,
   "id": "e5bcfc41",
   "metadata": {},
   "outputs": [],
   "source": [
    "predicted_y=model.predict(x_test)"
   ]
  },
  {
   "cell_type": "code",
   "execution_count": 242,
   "id": "648aa530",
   "metadata": {},
   "outputs": [
    {
     "data": {
      "text/plain": [
       "0.9030210537268912"
      ]
     },
     "execution_count": 242,
     "metadata": {},
     "output_type": "execute_result"
    }
   ],
   "source": [
    "model.score(x_train,y_train)"
   ]
  },
  {
   "cell_type": "code",
   "execution_count": 243,
   "id": "9c2c6fd2",
   "metadata": {},
   "outputs": [
    {
     "data": {
      "text/plain": [
       "1.0"
      ]
     },
     "execution_count": 243,
     "metadata": {},
     "output_type": "execute_result"
    }
   ],
   "source": [
    "model.score(x_test,predicted_y)"
   ]
  },
  {
   "cell_type": "code",
   "execution_count": 244,
   "id": "d5a073ae",
   "metadata": {},
   "outputs": [],
   "source": [
    "final=model.fit(Selected,Y)"
   ]
  },
  {
   "cell_type": "code",
   "execution_count": 245,
   "id": "56ff3ee5",
   "metadata": {},
   "outputs": [
    {
     "data": {
      "text/plain": [
       "0.9034913081480043"
      ]
     },
     "execution_count": 245,
     "metadata": {},
     "output_type": "execute_result"
    }
   ],
   "source": [
    "final.score(Selected,Y)"
   ]
  },
  {
   "cell_type": "markdown",
   "id": "1bd5e96c",
   "metadata": {},
   "source": [
    "<h3>\n",
    "    Adabooster\n",
    "    <H3>"
   ]
  },
  {
   "cell_type": "code",
   "execution_count": 246,
   "id": "251c04f0",
   "metadata": {},
   "outputs": [
    {
     "data": {
      "text/plain": [
       "AdaBoostRegressor(n_estimators=100, random_state=0)"
      ]
     },
     "execution_count": 246,
     "metadata": {},
     "output_type": "execute_result"
    }
   ],
   "source": [
    "from sklearn.ensemble import AdaBoostRegressor\n",
    "regress=AdaBoostRegressor(random_state=0, n_estimators=100)\n",
    "regress.fit(x_train, y_train)"
   ]
  },
  {
   "cell_type": "code",
   "execution_count": 247,
   "id": "38e42dd8",
   "metadata": {},
   "outputs": [
    {
     "data": {
      "text/plain": [
       "0.1527022858223097"
      ]
     },
     "execution_count": 247,
     "metadata": {},
     "output_type": "execute_result"
    }
   ],
   "source": [
    "regress.score(x_train,y_train)"
   ]
  },
  {
   "cell_type": "code",
   "execution_count": 248,
   "id": "5bee13c4",
   "metadata": {},
   "outputs": [
    {
     "data": {
      "text/plain": [
       "0.14734176279091904"
      ]
     },
     "execution_count": 248,
     "metadata": {},
     "output_type": "execute_result"
    }
   ],
   "source": [
    "regress.score(x_test,y_test)"
   ]
  },
  {
   "cell_type": "markdown",
   "id": "dbcf45e9",
   "metadata": {},
   "source": [
    "<H3>\n",
    "    Naives Bayes\n",
    "    <H3>"
   ]
  },
  {
   "cell_type": "code",
   "execution_count": 249,
   "id": "0cd6a395",
   "metadata": {},
   "outputs": [],
   "source": [
    "gb = GaussianNB()"
   ]
  },
  {
   "cell_type": "code",
   "execution_count": 250,
   "id": "57fc3cb0",
   "metadata": {},
   "outputs": [
    {
     "data": {
      "text/plain": [
       "GaussianNB()"
      ]
     },
     "execution_count": 250,
     "metadata": {},
     "output_type": "execute_result"
    }
   ],
   "source": [
    "gb.fit(x_train, y_train)"
   ]
  },
  {
   "cell_type": "code",
   "execution_count": 251,
   "id": "ed6a1f69",
   "metadata": {},
   "outputs": [],
   "source": [
    " y_pred = gb.predict(x_test)"
   ]
  },
  {
   "cell_type": "code",
   "execution_count": 252,
   "id": "168b37da",
   "metadata": {},
   "outputs": [
    {
     "data": {
      "text/plain": [
       "0.889698146799385"
      ]
     },
     "execution_count": 252,
     "metadata": {},
     "output_type": "execute_result"
    }
   ],
   "source": [
    "metrics.accuracy_score(y_test,y_pred)"
   ]
  },
  {
   "cell_type": "code",
   "execution_count": 253,
   "id": "9aaf5b34",
   "metadata": {},
   "outputs": [],
   "source": [
    "model=gb.fit(Selected,Y)"
   ]
  },
  {
   "cell_type": "code",
   "execution_count": 254,
   "id": "74166f86",
   "metadata": {},
   "outputs": [],
   "source": [
    " y_pred = gb.predict(Selected)"
   ]
  },
  {
   "cell_type": "code",
   "execution_count": 255,
   "id": "2b7ea29a",
   "metadata": {},
   "outputs": [
    {
     "data": {
      "text/plain": [
       "0.8890939108478197"
      ]
     },
     "execution_count": 255,
     "metadata": {},
     "output_type": "execute_result"
    }
   ],
   "source": [
    "metrics.accuracy_score(Y,y_pred)"
   ]
  },
  {
   "cell_type": "markdown",
   "id": "aaab87ae",
   "metadata": {},
   "source": [
    "<H3>\n",
    "SVM\n",
    "<H3>"
   ]
  },
  {
   "cell_type": "code",
   "execution_count": 256,
   "id": "553d1b40",
   "metadata": {},
   "outputs": [
    {
     "data": {
      "text/plain": [
       "0.894634620053411"
      ]
     },
     "execution_count": 256,
     "metadata": {},
     "output_type": "execute_result"
    }
   ],
   "source": [
    "from sklearn import svm\n",
    "clf = svm.SVC(kernel='linear') \n",
    "clf.fit(x_train, y_train)\n",
    "y_pred = clf.predict(x_test)\n",
    "clf.score(x_test,y_test)"
   ]
  },
  {
   "cell_type": "markdown",
   "id": "c260c664",
   "metadata": {},
   "source": [
    "<H3>\n",
    "KNN\n",
    "<H3>"
   ]
  },
  {
   "cell_type": "code",
   "execution_count": 257,
   "id": "307c722f",
   "metadata": {},
   "outputs": [
    {
     "data": {
      "text/plain": [
       "KNeighborsClassifier(n_neighbors=3)"
      ]
     },
     "execution_count": 257,
     "metadata": {},
     "output_type": "execute_result"
    }
   ],
   "source": [
    "from sklearn.neighbors import KNeighborsClassifier\n",
    "neigh = KNeighborsClassifier(n_neighbors=3)\n",
    "neigh.fit(x_train,y_train)"
   ]
  },
  {
   "cell_type": "code",
   "execution_count": 258,
   "id": "89186fac",
   "metadata": {},
   "outputs": [
    {
     "ename": "NameError",
     "evalue": "name 'sqrt' is not defined",
     "output_type": "error",
     "traceback": [
      "\u001b[1;31m---------------------------------------------------------------------------\u001b[0m",
      "\u001b[1;31mNameError\u001b[0m                                 Traceback (most recent call last)",
      "\u001b[1;32mC:\\Users\\VENKYK~1\\AppData\\Local\\Temp/ipykernel_1036/3375633132.py\u001b[0m in \u001b[0;36m<module>\u001b[1;34m\u001b[0m\n\u001b[0;32m      1\u001b[0m \u001b[1;32mfor\u001b[0m \u001b[0mgroup\u001b[0m \u001b[1;32min\u001b[0m \u001b[0mx_train\u001b[0m\u001b[1;33m:\u001b[0m\u001b[1;33m\u001b[0m\u001b[1;33m\u001b[0m\u001b[0m\n\u001b[0;32m      2\u001b[0m     \u001b[1;32mfor\u001b[0m \u001b[0mfeatures\u001b[0m \u001b[1;32min\u001b[0m \u001b[0mx_train\u001b[0m\u001b[1;33m:\u001b[0m\u001b[1;33m\u001b[0m\u001b[1;33m\u001b[0m\u001b[0m\n\u001b[1;32m----> 3\u001b[1;33m        \u001b[0mEu_\u001b[0m\u001b[1;33m=\u001b[0m \u001b[0msqrt\u001b[0m\u001b[1;33m(\u001b[0m \u001b[1;33m(\u001b[0m\u001b[0mx_new\u001b[0m \u001b[1;33m[\u001b[0m\u001b[1;36m0\u001b[0m\u001b[1;33m]\u001b[0m\u001b[1;33m-\u001b[0m \u001b[0mx_train\u001b[0m\u001b[1;33m[\u001b[0m\u001b[1;36m0\u001b[0m\u001b[1;33m]\u001b[0m\u001b[1;33m)\u001b[0m\u001b[1;33m**\u001b[0m\u001b[1;36m2\u001b[0m \u001b[1;33m+\u001b[0m \u001b[1;33m(\u001b[0m\u001b[0mx_new\u001b[0m \u001b[1;33m[\u001b[0m\u001b[1;36m1\u001b[0m\u001b[1;33m]\u001b[0m\u001b[1;33m-\u001b[0m \u001b[0mx_train\u001b[0m\u001b[1;33m[\u001b[0m\u001b[1;36m1\u001b[0m\u001b[1;33m]\u001b[0m\u001b[1;33m)\u001b[0m\u001b[1;33m**\u001b[0m\u001b[1;36m2\u001b[0m\u001b[1;33m+\u001b[0m\u001b[1;33m(\u001b[0m\u001b[0mx_new\u001b[0m \u001b[1;33m[\u001b[0m\u001b[1;36m2\u001b[0m\u001b[1;33m]\u001b[0m\u001b[1;33m-\u001b[0m \u001b[0mx_train\u001b[0m\u001b[1;33m[\u001b[0m\u001b[1;36m2\u001b[0m\u001b[1;33m]\u001b[0m\u001b[1;33m)\u001b[0m\u001b[1;33m**\u001b[0m\u001b[1;36m2\u001b[0m\u001b[1;33m+\u001b[0m\u001b[1;33m(\u001b[0m\u001b[0mx_new\u001b[0m \u001b[1;33m[\u001b[0m\u001b[1;36m3\u001b[0m\u001b[1;33m]\u001b[0m\u001b[1;33m-\u001b[0m \u001b[0mx_train\u001b[0m\u001b[1;33m[\u001b[0m\u001b[1;36m3\u001b[0m\u001b[1;33m]\u001b[0m\u001b[1;33m)\u001b[0m\u001b[1;33m**\u001b[0m\u001b[1;36m2\u001b[0m\u001b[1;33m)\u001b[0m\u001b[1;33m\u001b[0m\u001b[1;33m\u001b[0m\u001b[0m\n\u001b[0m",
      "\u001b[1;31mNameError\u001b[0m: name 'sqrt' is not defined"
     ]
    }
   ],
   "source": [
    "for group in x_train:\n",
    "    for features in x_train:\n",
    "       Eu_= sqrt( (x_new [0]- x_train[0])**2 + (x_new [1]- x_train[1])**2+(x_new [2]- x_train[2])**2+(x_new [3]- x_train[3])**2)"
   ]
  },
  {
   "cell_type": "code",
   "execution_count": null,
   "id": "3d6c1adc",
   "metadata": {},
   "outputs": [],
   "source": []
  },
  {
   "cell_type": "code",
   "execution_count": null,
   "id": "d213668d",
   "metadata": {},
   "outputs": [],
   "source": []
  }
 ],
 "metadata": {
  "kernelspec": {
   "display_name": "Python 3 (ipykernel)",
   "language": "python",
   "name": "python3"
  },
  "language_info": {
   "codemirror_mode": {
    "name": "ipython",
    "version": 3
   },
   "file_extension": ".py",
   "mimetype": "text/x-python",
   "name": "python",
   "nbconvert_exporter": "python",
   "pygments_lexer": "ipython3",
   "version": "3.9.7"
  }
 },
 "nbformat": 4,
 "nbformat_minor": 5
}
